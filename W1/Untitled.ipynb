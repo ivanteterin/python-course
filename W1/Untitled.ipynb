{
 "cells": [
  {
   "cell_type": "code",
   "execution_count": 1,
   "metadata": {},
   "outputs": [
    {
     "ename": "ModuleNotFoundError",
     "evalue": "No module named 'graphics'",
     "output_type": "error",
     "traceback": [
      "\u001b[1;31m---------------------------------------------------------------------------\u001b[0m",
      "\u001b[1;31mModuleNotFoundError\u001b[0m                       Traceback (most recent call last)",
      "\u001b[1;32m<ipython-input-1-0d58346fbe1b>\u001b[0m in \u001b[0;36m<module>\u001b[1;34m\u001b[0m\n\u001b[1;32m----> 1\u001b[1;33m \u001b[1;32mimport\u001b[0m \u001b[0mgraphics\u001b[0m \u001b[1;32mas\u001b[0m \u001b[0mgr\u001b[0m\u001b[1;33m\u001b[0m\u001b[1;33m\u001b[0m\u001b[0m\n\u001b[0m\u001b[0;32m      2\u001b[0m \u001b[1;33m\u001b[0m\u001b[0m\n\u001b[0;32m      3\u001b[0m \u001b[1;33m\u001b[0m\u001b[0m\n\u001b[0;32m      4\u001b[0m \u001b[1;32mdef\u001b[0m \u001b[0mmain\u001b[0m\u001b[1;33m(\u001b[0m\u001b[1;33m)\u001b[0m\u001b[1;33m:\u001b[0m\u001b[1;33m\u001b[0m\u001b[1;33m\u001b[0m\u001b[0m\n\u001b[0;32m      5\u001b[0m     \u001b[0mwindow\u001b[0m \u001b[1;33m=\u001b[0m \u001b[0mgr\u001b[0m\u001b[1;33m.\u001b[0m\u001b[0mGraphWin\u001b[0m\u001b[1;33m(\u001b[0m\u001b[1;34m\"My Image\"\u001b[0m\u001b[1;33m,\u001b[0m \u001b[1;36m600\u001b[0m\u001b[1;33m,\u001b[0m \u001b[1;36m600\u001b[0m\u001b[1;33m)\u001b[0m\u001b[1;33m\u001b[0m\u001b[1;33m\u001b[0m\u001b[0m\n",
      "\u001b[1;31mModuleNotFoundError\u001b[0m: No module named 'graphics'"
     ]
    }
   ],
   "source": [
    "import graphics as gr\n",
    "\n",
    "\n",
    "def main():\n",
    "    window = gr.GraphWin(\"My Image\", 600, 600)\n",
    "    draw_image(window)\n",
    "    window.getMouse()\n",
    "\n",
    "\n",
    "def draw_image(window):\n",
    "    house_x, house_y = window.width // 2, window.height * 2 // 3\n",
    "    house_width = window.width // 3\n",
    "    house_height = house_width * 4 // 3\n",
    "\n",
    "    draw_background(window)\n",
    "    draw_house(window, house_x, house_y, house_width, house_height)\n",
    "\n",
    "\n",
    "def draw_background(window):\n",
    "    earth = gr.Rectangle(gr.Point(0, window.height // 2),\n",
    "                         gr.Point(window.width - 1, window.height - 1))\n",
    "    earth.setFill(\"green\")\n",
    "    earth.draw(window)\n",
    "    scy = gr.Rectangle(gr.Point(0, 0),\n",
    "                       gr.Point(window.width - 1, window.height // 2))\n",
    "    scy.setFill(\"cyan\")\n",
    "    scy.draw(window)\n",
    "\n",
    "\n",
    "def draw_house(window, x, y, width, height):\n",
    "    foundation_height = height // 8\n",
    "    walls_height = height // 2\n",
    "    walls_width = 7 * width // 8\n",
    "    roof_height = height - walls_height - foundation_height\n",
    "\n",
    "    draw_house_foundation(window, x, y, width, foundation_height)\n",
    "    draw_house_walls(window, x, y - foundation_height,\n",
    "                     walls_width, walls_height)\n",
    "    draw_house_roof(window, x, y - foundation_height - walls_height,\n",
    "                    width, roof_height)\n",
    "\n",
    "\n",
    "def draw_house_foundation(window, x, y, width, height):\n",
    "    foundation = gr.Rectangle(gr.Point(x - width // 2, y),\n",
    "                              gr.Point(x + width // 2, y - height))\n",
    "    foundation.setFill(\"brown\")\n",
    "    foundation.draw(window)\n",
    "\n",
    "\n",
    "def draw_house_walls(window, x, y, width, height):\n",
    "    walls = gr.Rectangle(gr.Point(x - width // 2, y),\n",
    "                         gr.Point(x + width // 2, y - height))\n",
    "    walls.setFill(\"red\")\n",
    "    walls.draw(window)\n",
    "    draw_house_window(window, x, y - height // 4,\n",
    "                      width // 3, height // 2)\n",
    "\n",
    "\n",
    "def draw_house_window(window, x, y, width, height):\n",
    "    glass = gr.Rectangle(gr.Point(x - width // 2, y),\n",
    "                         gr.Point(x + width // 2, y - height))\n",
    "    glass.setFill(\"blue\")\n",
    "    line1 = gr.Line(gr.Point(x, y), gr.Point(x, y - height))\n",
    "    line2 = gr.Line(gr.Point(x - width // 2, y - height // 2),\n",
    "                    gr.Point(x + width // 2, y - height // 2))\n",
    "    glass.draw(window)\n",
    "    line1.draw(window)\n",
    "    line2.draw(window)\n",
    "    line1.setOutline(\"black\")\n",
    "    line2.setOutline(\"black\")\n",
    "    line1.setWidth(2)\n",
    "    line2.setWidth(2)\n",
    "\n",
    "\n",
    "def draw_house_roof(window, x, y, width, height):\n",
    "    roof = gr.Polygon(gr.Point(x - width // 2, y),\n",
    "                      gr.Point(x + width // 2, y),\n",
    "                      gr.Point(x, y - height))\n",
    "    roof.setFill(\"green\")\n",
    "    roof.draw(window)\n",
    "\n",
    "\n",
    "if __name__ == \"__main__\":\n",
    "    main()"
   ]
  },
  {
   "cell_type": "code",
   "execution_count": 7,
   "metadata": {},
   "outputs": [
    {
     "name": "stdout",
     "output_type": "stream",
     "text": [
      "60 a555aa\n",
      "60\n",
      "a555aa\n",
      "False\n",
      "0\n"
     ]
    }
   ],
   "source": [
    "#mport pdb\n",
    "#db.set_trace()\n",
    "\n",
    "__name__='__main__'\n",
    "\n",
    "if __name__ == \"__main__\":\n",
    "    fine_sum = 0  # money\n",
    "    v, num = input().split()  # speed and number of car\n",
    "    print(v)\n",
    "    print(num)\n",
    "    v = int(v)\n",
    "    print(num[0] != \"A\" and num[1] != \"5\" and num[2] != \"5\" and num[3] != \"5\" and num[4] != \"A\" and num[5] != \"A\")\n",
    "    while (num[0] != \"A\" and num[1] != \"5\" and num[2] != \"5\" and num[3] != \"5\" and num[4] != \"A\" and num[5] != \"A\"):\n",
    "        print('1')\n",
    "        if v > 60:\n",
    "            if num[1] == num[2] or num[2] == num[3] or \\\n",
    "                    num[1] == num[3]:\n",
    "                if num[1] == num[2] == num[3]:\n",
    "                    fine_sum += 1000\n",
    "                else:\n",
    "                    fine_sum += 500\n",
    "            else:\n",
    "                fine_sum += 100\n",
    "        v, num = input().split()\n",
    "        v = int(v)\n",
    "    print(fine_sum)"
   ]
  },
  {
   "cell_type": "code",
   "execution_count": 9,
   "metadata": {},
   "outputs": [
    {
     "name": "stdout",
     "output_type": "stream",
     "text": [
      "50 g555gg\n",
      "70 g555gg\n",
      "Начислено: 500\n",
      "70 g565gg\n",
      "Начислено: 500\n",
      "50 A555AA\n",
      "1000\n"
     ]
    }
   ],
   "source": [
    "def is_chief_detected(num):\n",
    "    return num == \"A555AA\"\n",
    "\n",
    "\n",
    "def calculate_fine(num):\n",
    "    fine = 0\n",
    "    if is_super_number(num):\n",
    "        fine = 1000\n",
    "    if is_good_number(num):\n",
    "        fine = 500\n",
    "    else:\n",
    "        fine = 100\n",
    "    return fine\n",
    "\n",
    "\n",
    "def is_super_number(num):\n",
    "    return num[1] == num[2] == num[3]\n",
    "\n",
    "\n",
    "def is_good_number(num):\n",
    "    return num[1] == num[2] or num[2] == num[3] or num[3] == num[1]\n",
    "\n",
    "\n",
    "if __name__ == \"__main__\":\n",
    "    fine_sum = 0  # money\n",
    "    v, num = input().split()  # car speed and registration number\n",
    "    v = int(v)\n",
    "    while not is_chief_detected(num):\n",
    "        if v > 60:\n",
    "            fine_sum += calculate_fine(num)\n",
    "            print(f'Начислено: {calculate_fine(num)}')\n",
    "        v, num = input().split()\n",
    "        v = int(v)\n",
    "    print(fine_sum)"
   ]
  },
  {
   "cell_type": "code",
   "execution_count": 13,
   "metadata": {},
   "outputs": [
    {
     "data": {
      "text/plain": [
       "True"
      ]
     },
     "execution_count": 13,
     "metadata": {},
     "output_type": "execute_result"
    }
   ],
   "source": [
    "is_super_number('a555')"
   ]
  },
  {
   "cell_type": "code",
   "execution_count": 20,
   "metadata": {},
   "outputs": [
    {
     "data": {
      "text/plain": [
       "True"
      ]
     },
     "execution_count": 20,
     "metadata": {},
     "output_type": "execute_result"
    }
   ],
   "source": [
    "type(-7)==int"
   ]
  },
  {
   "cell_type": "code",
   "execution_count": 24,
   "metadata": {},
   "outputs": [],
   "source": [
    "def gcd(a, b):\n",
    "  assert type(a) == int and type(b) == int and  a > 0 and b > 0\n",
    "  while b != 0:\n",
    "    r = a % b\n",
    "    b = a\n",
    "    a = r\n",
    "  return a"
   ]
  },
  {
   "cell_type": "code",
   "execution_count": 25,
   "metadata": {},
   "outputs": [
    {
     "ename": "AssertionError",
     "evalue": "",
     "output_type": "error",
     "traceback": [
      "\u001b[1;31m---------------------------------------------------------------------------\u001b[0m",
      "\u001b[1;31mAssertionError\u001b[0m                            Traceback (most recent call last)",
      "\u001b[1;32m<ipython-input-25-23846b15b536>\u001b[0m in \u001b[0;36m<module>\u001b[1;34m\u001b[0m\n\u001b[1;32m----> 1\u001b[1;33m \u001b[0mgcd\u001b[0m\u001b[1;33m(\u001b[0m\u001b[1;34m's'\u001b[0m\u001b[1;33m,\u001b[0m\u001b[1;36m3\u001b[0m\u001b[1;33m)\u001b[0m\u001b[1;33m\u001b[0m\u001b[1;33m\u001b[0m\u001b[0m\n\u001b[0m",
      "\u001b[1;32m<ipython-input-24-b205dea1c669>\u001b[0m in \u001b[0;36mgcd\u001b[1;34m(a, b)\u001b[0m\n\u001b[0;32m      1\u001b[0m \u001b[1;32mdef\u001b[0m \u001b[0mgcd\u001b[0m\u001b[1;33m(\u001b[0m\u001b[0ma\u001b[0m\u001b[1;33m,\u001b[0m \u001b[0mb\u001b[0m\u001b[1;33m)\u001b[0m\u001b[1;33m:\u001b[0m\u001b[1;33m\u001b[0m\u001b[1;33m\u001b[0m\u001b[0m\n\u001b[1;32m----> 2\u001b[1;33m   \u001b[1;32massert\u001b[0m \u001b[0mtype\u001b[0m\u001b[1;33m(\u001b[0m\u001b[0ma\u001b[0m\u001b[1;33m)\u001b[0m \u001b[1;33m==\u001b[0m \u001b[0mint\u001b[0m \u001b[1;32mand\u001b[0m \u001b[0mtype\u001b[0m\u001b[1;33m(\u001b[0m\u001b[0mb\u001b[0m\u001b[1;33m)\u001b[0m \u001b[1;33m==\u001b[0m \u001b[0mint\u001b[0m \u001b[1;32mand\u001b[0m  \u001b[0ma\u001b[0m \u001b[1;33m>\u001b[0m \u001b[1;36m0\u001b[0m \u001b[1;32mand\u001b[0m \u001b[0mb\u001b[0m \u001b[1;33m>\u001b[0m \u001b[1;36m0\u001b[0m\u001b[1;33m\u001b[0m\u001b[1;33m\u001b[0m\u001b[0m\n\u001b[0m\u001b[0;32m      3\u001b[0m   \u001b[1;32mwhile\u001b[0m \u001b[0mb\u001b[0m \u001b[1;33m!=\u001b[0m \u001b[1;36m0\u001b[0m\u001b[1;33m:\u001b[0m\u001b[1;33m\u001b[0m\u001b[1;33m\u001b[0m\u001b[0m\n\u001b[0;32m      4\u001b[0m     \u001b[0mr\u001b[0m \u001b[1;33m=\u001b[0m \u001b[0ma\u001b[0m \u001b[1;33m%\u001b[0m \u001b[0mb\u001b[0m\u001b[1;33m\u001b[0m\u001b[1;33m\u001b[0m\u001b[0m\n\u001b[0;32m      5\u001b[0m     \u001b[0mb\u001b[0m \u001b[1;33m=\u001b[0m \u001b[0ma\u001b[0m\u001b[1;33m\u001b[0m\u001b[1;33m\u001b[0m\u001b[0m\n",
      "\u001b[1;31mAssertionError\u001b[0m: "
     ]
    }
   ],
   "source": [
    "gcd('s',3)"
   ]
  },
  {
   "cell_type": "code",
   "execution_count": 27,
   "metadata": {},
   "outputs": [
    {
     "name": "stderr",
     "output_type": "stream",
     "text": [
      "E\n",
      "======================================================================\n",
      "ERROR: C:\\Users\\Administrator\\AppData\\Roaming\\jupyter\\runtime\\kernel-db2663a0-3d5a-4e09-9f54-92a0d276f9c3 (unittest.loader._FailedTest)\n",
      "----------------------------------------------------------------------\n",
      "AttributeError: module '__main__' has no attribute 'C:\\Users\\Administrator\\AppData\\Roaming\\jupyter\\runtime\\kernel-db2663a0-3d5a-4e09-9f54-92a0d276f9c3'\n",
      "\n",
      "----------------------------------------------------------------------\n",
      "Ran 1 test in 0.012s\n",
      "\n",
      "FAILED (errors=1)\n"
     ]
    },
    {
     "ename": "SystemExit",
     "evalue": "True",
     "output_type": "error",
     "traceback": [
      "An exception has occurred, use %tb to see the full traceback.\n",
      "\u001b[1;31mSystemExit\u001b[0m\u001b[1;31m:\u001b[0m True\n"
     ]
    },
    {
     "name": "stderr",
     "output_type": "stream",
     "text": [
      "C:\\Program Files\\Anaconda\\lib\\site-packages\\IPython\\core\\interactiveshell.py:3333: UserWarning: To exit: use 'exit', 'quit', or Ctrl-D.\n",
      "  warn(\"To exit: use 'exit', 'quit', or Ctrl-D.\", stacklevel=1)\n"
     ]
    }
   ],
   "source": [
    "import unittest\n",
    "\n",
    "def factorize (x):\n",
    "    if x=6:\n",
    "        return (2, 3)\n",
    "    elif x=26:\n",
    "        return ()\n",
    "    pass\n",
    "\n",
    "class TestFactorize(unittest.TestCase):\n",
    "    \n",
    "    def test_wrong_types_raise_exception(self):\n",
    "        cases = ['string', 1.5]\n",
    "        for b in cases:\n",
    "            with self.subTest(case=b):\n",
    "#                 a=list(b)\n",
    "#                 factorize(a)\n",
    "                self.assertRaises(TypeError, factorize, b)\n",
    "    \n",
    "    def test_negative(self):\n",
    "        cases = [-1, -10, -100]\n",
    "        for b in cases:\n",
    "            with self.subTest(case=b):\n",
    "                self.assertRaises(ValueError, factorize, b)\n",
    "                \n",
    "    def test_zero_and_one_cases(self):\n",
    "        cases = [0, 1]\n",
    "        expected = [(0,), (1,)]\n",
    "        for i in range(len(cases)):\n",
    "            with self.subTest(case=cases[i]):\n",
    "                a=factorize(cases[i])\n",
    "                self.assertEqual(a, expected[i])\n",
    "                \n",
    "    def test_simple_numbers(self):\n",
    "        cases = [3, 13, 29]\n",
    "        expected = [(3,), (13,), (29,)]\n",
    "        for i in range(len(cases)):\n",
    "            with self.subTest(case=cases[i]):\n",
    "                a=factorize(cases[i])\n",
    "                self.assertEqual(a, expected[i])\n",
    "                \n",
    "    def test_two_simple_multipliers(self):\n",
    "        cases = [6, 26, 121]\n",
    "        expected = [(2, 3), (2, 13), (11, 11)]\n",
    "        for i in range(len(cases)):\n",
    "            with self.subTest(case=cases[i]):\n",
    "                a=factorize(cases[i])\n",
    "                self.assertEqual(a, expected[i])\n",
    "                \n",
    "    def test_many_multipliers(self):\n",
    "        cases = [1001, 9699690]\n",
    "        expected = [(7, 11, 13), (2, 3, 5, 7, 11, 13, 17, 19)]\n",
    "        for i in range(len(cases)):\n",
    "            with self.subTest(case=cases[i]):\n",
    "                a=factorize(cases[i])\n",
    "                self.assertEqual(a, expected[i])\n",
    "\n",
    "if __name__=='__main__':\n",
    "    unittest.main()"
   ]
  },
  {
   "cell_type": "code",
   "execution_count": 28,
   "metadata": {},
   "outputs": [
    {
     "ename": "TypeError",
     "evalue": "Can't instantiate abstract class B with abstract methods do_something",
     "output_type": "error",
     "traceback": [
      "\u001b[1;31m---------------------------------------------------------------------------\u001b[0m",
      "\u001b[1;31mTypeError\u001b[0m                                 Traceback (most recent call last)",
      "\u001b[1;32m<ipython-input-28-d59446650ca8>\u001b[0m in \u001b[0;36m<module>\u001b[1;34m\u001b[0m\n\u001b[0;32m     17\u001b[0m \u001b[1;33m\u001b[0m\u001b[0m\n\u001b[0;32m     18\u001b[0m \u001b[1;33m\u001b[0m\u001b[0m\n\u001b[1;32m---> 19\u001b[1;33m \u001b[0mobj\u001b[0m \u001b[1;33m=\u001b[0m \u001b[0mB\u001b[0m\u001b[1;33m(\u001b[0m\u001b[1;33m)\u001b[0m\u001b[1;33m\u001b[0m\u001b[1;33m\u001b[0m\u001b[0m\n\u001b[0m\u001b[0;32m     20\u001b[0m \u001b[0mobj\u001b[0m\u001b[1;33m.\u001b[0m\u001b[0mdo_something\u001b[0m\u001b[1;33m(\u001b[0m\u001b[1;33m)\u001b[0m\u001b[1;33m\u001b[0m\u001b[1;33m\u001b[0m\u001b[0m\n",
      "\u001b[1;31mTypeError\u001b[0m: Can't instantiate abstract class B with abstract methods do_something"
     ]
    }
   ],
   "source": [
    "from abc import ABC, abstractmethod\n",
    "\n",
    "\n",
    "class A(ABC):\n",
    "  def __init__(self):\n",
    "    self.var1 = 5\n",
    "    self.var2 = 7\n",
    "  \n",
    "  @abstractmethod\n",
    "  def do_something(self):\n",
    "    print(self.var1 + self.var2)\n",
    "\n",
    "\n",
    "class B(A):\n",
    "  def __init__(self):\n",
    "    self.var1 = 2\n",
    "\n",
    "\n",
    "obj = B()\n",
    "obj.do_something()"
   ]
  },
  {
   "cell_type": "code",
   "execution_count": 29,
   "metadata": {},
   "outputs": [],
   "source": [
    "class Base:\n",
    "\n",
    "    pass\n",
    "\n",
    "\n",
    "class A:\n",
    "    def __init__(self, data, result):\n",
    "        self.data = data\n",
    "        self.result = result\n",
    "\n",
    "    def get_answer(self):\n",
    "        return [int(x >= 0.5) for x in self.data]\n",
    "\n",
    "    def get_score(self):\n",
    "        ans = self.get_answer()\n",
    "        return sum([int(x == y) for (x, y) in zip(ans, self.result)]) \\\n",
    "            / len(ans)\n",
    "\n",
    "    def get_loss(self):\n",
    "        return sum(\n",
    "            [(x - y) * (x - y) for (x, y) in zip(self.data, self.result)])\n",
    "\n",
    "\n",
    "class B:\n",
    "    def __init__(self, data, result):\n",
    "        self.data = data\n",
    "        self.result = result\n",
    "\n",
    "    def get_answer(self):\n",
    "        return [int(x >= 0.5) for x in self.data]\n",
    "\n",
    "    def get_loss(self):\n",
    "        return -sum([\n",
    "            y * math.log(x) + (1 - y) * math.log(1 - x)\n",
    "            for (x, y) in zip(self.data, self.result)\n",
    "        ])\n",
    "\n",
    "    def get_pre(self):\n",
    "        ans = self.get_answer()\n",
    "        res = [int(x == 1 and y == 1) for (x, y) in zip(ans, self.result)]\n",
    "        return sum(res) / sum(ans)\n",
    "\n",
    "    def get_rec(self):\n",
    "        ans = self.get_answer()\n",
    "        res = [int(x == 1 and y == 1) for (x, y) in zip(ans, self.result)]\n",
    "        return sum(res) / sum(self.result)\n",
    "\n",
    "    def get_score(self):\n",
    "        pre = self.get_pre()\n",
    "        rec = self.get_rec()\n",
    "        return 2 * pre * rec / (pre + rec)\n",
    "\n",
    "\n",
    "class C:\n",
    "    def __init__(self, data, result):\n",
    "        self.data = data\n",
    "        self.result = result\n",
    "\n",
    "    def get_answer(self):\n",
    "        return [int(x >= 0.5) for x in self.data]\n",
    "\n",
    "    def get_score(self):\n",
    "        ans = self.get_answer()\n",
    "        return sum([int(x == y) for (x, y) in zip(ans, self.result)]) \\\n",
    "            / len(ans)\n",
    "\n",
    "    def get_loss(self):\n",
    "        return sum([abs(x - y) for (x, y) in zip(self.data, self.result)])"
   ]
  },
  {
   "cell_type": "code",
   "execution_count": 61,
   "metadata": {},
   "outputs": [],
   "source": [
    "a=A([1, 2],[3,5])\n",
    "b=B([1, 2],[3,5])\n",
    "c=C([1, 2],[3,5])"
   ]
  },
  {
   "cell_type": "code",
   "execution_count": 65,
   "metadata": {},
   "outputs": [
    {
     "data": {
      "text/plain": [
       "[1, 1]"
      ]
     },
     "execution_count": 65,
     "metadata": {},
     "output_type": "execute_result"
    }
   ],
   "source": [
    "a.get_answer()"
   ]
  },
  {
   "cell_type": "code",
   "execution_count": 66,
   "metadata": {},
   "outputs": [
    {
     "data": {
      "text/plain": [
       "0.0"
      ]
     },
     "execution_count": 66,
     "metadata": {},
     "output_type": "execute_result"
    }
   ],
   "source": [
    "a.get_score()"
   ]
  },
  {
   "cell_type": "code",
   "execution_count": 67,
   "metadata": {},
   "outputs": [
    {
     "data": {
      "text/plain": [
       "13"
      ]
     },
     "execution_count": 67,
     "metadata": {},
     "output_type": "execute_result"
    }
   ],
   "source": [
    "a.get_loss()"
   ]
  },
  {
   "cell_type": "code",
   "execution_count": 56,
   "metadata": {},
   "outputs": [],
   "source": [
    "import math"
   ]
  },
  {
   "cell_type": "code",
   "execution_count": 69,
   "metadata": {},
   "outputs": [],
   "source": [
    "import math\n",
    "from abc import ABC, abstractmethod\n",
    "\n",
    "\n",
    "class Base(ABC):\n",
    "    def __init__(self, data, result):\n",
    "        self.data = data\n",
    "        self.result = result\n",
    "\n",
    "    def get_answer(self):\n",
    "        return [int(x >= 0.5) for x in self.data]\n",
    "    \n",
    "    def get_score(self):\n",
    "        ans = self.get_answer()\n",
    "        return sum([int(x == y) for (x, y) in zip(ans, self.result)]) \\\n",
    "            / len(ans)\n",
    "    \n",
    "    @abstractmethod\n",
    "    def get_loss(self):\n",
    "        pass\n",
    "\n",
    "    \n",
    "class A(Base):\n",
    "    def get_loss(self):\n",
    "        return sum(\n",
    "            [(x - y) * (x - y) for (x, y) in zip(self.data, self.result)])\n",
    "\n",
    "    \n",
    "class C(Base):\n",
    "    def get_loss(self):\n",
    "        return sum([abs(x - y) for (x, y) in zip(self.data, self.result)])\n",
    "\n",
    "    \n",
    "class B(Base):\n",
    "    def get_loss(self):\n",
    "        return -sum([\n",
    "            y * math.log(x) + (1 - y) * math.log(1 - x)\n",
    "            for (x, y) in zip(self.data, self.result)\n",
    "        ])\n",
    "\n",
    "    def get_pre(self):\n",
    "        ans = self.get_answer()\n",
    "        res = [int(x == 1 and y == 1) for (x, y) in zip(ans, self.result)]\n",
    "        return sum(res) / sum(ans)\n",
    "\n",
    "    def get_rec(self):\n",
    "        ans = self.get_answer()\n",
    "        res = [int(x == 1 and y == 1) for (x, y) in zip(ans, self.result)]\n",
    "        return sum(res) / sum(self.result)\n",
    "\n",
    "    def get_score(self):\n",
    "        pre = self.get_pre()\n",
    "        rec = self.get_rec()\n",
    "        return 2 * pre * rec / (pre + rec)"
   ]
  },
  {
   "cell_type": "code",
   "execution_count": null,
   "metadata": {},
   "outputs": [],
   "source": [
    "def get_score(self):\n",
    "        ans = self.get_answer()\n",
    "        return sum([int(x == y) for (x, y) in zip(ans, self.result)]) \\\n",
    "            / len(ans)\n",
    "    \n",
    "def get_score(self):\n",
    "        pre = self.get_pre()\n",
    "        rec = self.get_rec()\n",
    "        return 2 * pre * rec / (pre + rec)\n",
    "\n",
    "def get_score(self):\n",
    "        ans = self.get_answer()\n",
    "        return sum([int(x == y) for (x, y) in zip(ans, self.result)]) \\\n",
    "            / len(ans) "
   ]
  },
  {
   "cell_type": "code",
   "execution_count": null,
   "metadata": {},
   "outputs": [],
   "source": [
    "def get_loss(self):\n",
    "        return sum(\n",
    "            [(x - y) * (x - y) for (x, y) in zip(self.data, self.result)])\n",
    "    \n",
    "def get_loss(self):\n",
    "        return sum([abs(x - y) for (x, y) in zip(self.data, self.result)])\n",
    "    \n",
    "def get_loss(self):\n",
    "        return -sum([\n",
    "            y * math.log(x) + (1 - y) * math.log(1 - x)\n",
    "            for (x, y) in zip(self.data, self.result)"
   ]
  },
  {
   "cell_type": "code",
   "execution_count": null,
   "metadata": {},
   "outputs": [],
   "source": []
  },
  {
   "cell_type": "code",
   "execution_count": null,
   "metadata": {},
   "outputs": [],
   "source": []
  }
 ],
 "metadata": {
  "kernelspec": {
   "display_name": "Python 3",
   "language": "python",
   "name": "python3"
  },
  "language_info": {
   "codemirror_mode": {
    "name": "ipython",
    "version": 3
   },
   "file_extension": ".py",
   "mimetype": "text/x-python",
   "name": "python",
   "nbconvert_exporter": "python",
   "pygments_lexer": "ipython3",
   "version": "3.7.3"
  }
 },
 "nbformat": 4,
 "nbformat_minor": 2
}
