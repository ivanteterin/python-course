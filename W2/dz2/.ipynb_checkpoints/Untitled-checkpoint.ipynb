{
 "cells": [
  {
   "cell_type": "markdown",
   "metadata": {},
   "source": [
    "## Screen saver"
   ]
  },
  {
   "cell_type": "code",
   "execution_count": 1,
   "metadata": {},
   "outputs": [
    {
     "name": "stdout",
     "output_type": "stream",
     "text": [
      "pygame 2.0.0 (SDL 2.0.12, python 3.7.3)\n",
      "Hello from the pygame community. https://www.pygame.org/contribute.html\n"
     ]
    }
   ],
   "source": [
    "#!/usr/bin/env python3\n",
    "# -*- coding: utf-8 -*-\n",
    "\n",
    "import pygame\n",
    "import random\n",
    "import math\n",
    "\n",
    "SCREEN_DIM = (800, 600)\n",
    "\n",
    "\n",
    "# =======================================================================================\n",
    "# Функции для работы с векторами\n",
    "# =======================================================================================\n",
    "\n",
    "def sub(x, y):\n",
    "    \"\"\"\"возвращает разность двух векторов\"\"\"\n",
    "    return x[0] - y[0], x[1] - y[1]\n",
    "\n",
    "\n",
    "def add(x, y):\n",
    "    \"\"\"возвращает сумму двух векторов\"\"\"\n",
    "    return x[0] + y[0], x[1] + y[1]\n",
    "\n",
    "\n",
    "def length(x):\n",
    "    \"\"\"возвращает длину вектора\"\"\"\n",
    "    return math.sqrt(x[0] * x[0] + x[1] * x[1])\n",
    "\n",
    "\n",
    "def mul(v, k):\n",
    "    \"\"\"возвращает произведение вектора на число\"\"\"\n",
    "    return v[0] * k, v[1] * k\n",
    "\n",
    "\n",
    "def vec(x, y):\n",
    "    \"\"\"возвращает пару координат, определяющих вектор (координаты точки конца вектора),\n",
    "    координаты начальной точки вектора совпадают с началом системы координат (0, 0)\"\"\"\n",
    "    return sub(y, x)\n",
    "\n",
    "\n",
    "# =======================================================================================\n",
    "# Функции отрисовки\n",
    "# =======================================================================================\n",
    "def draw_points(points, style=\"points\", width=3, color=(255, 255, 255)):\n",
    "    \"\"\"функция отрисовки точек на экране\"\"\"\n",
    "    if style == \"line\":\n",
    "        for p_n in range(-1, len(points) - 1):\n",
    "            pygame.draw.line(gameDisplay, color,\n",
    "                             (int(points[p_n][0]), int(points[p_n][1])),\n",
    "                             (int(points[p_n + 1][0]), int(points[p_n + 1][1])), width)\n",
    "\n",
    "    elif style == \"points\":\n",
    "        for p in points:\n",
    "            pygame.draw.circle(gameDisplay, color,\n",
    "                               (int(p[0]), int(p[1])), width)\n",
    "\n",
    "\n",
    "def draw_help():\n",
    "    \"\"\"функция отрисовки экрана справки программы\"\"\"\n",
    "    gameDisplay.fill((50, 50, 50))\n",
    "    font1 = pygame.font.SysFont(\"courier\", 24)\n",
    "    font2 = pygame.font.SysFont(\"serif\", 24)\n",
    "    data = []\n",
    "    data.append([\"F1\", \"Show Help\"])\n",
    "    data.append([\"R\", \"Restart\"])\n",
    "    data.append([\"P\", \"Pause/Play\"])\n",
    "    data.append([\"Num+\", \"More points\"])\n",
    "    data.append([\"Num-\", \"Less points\"])\n",
    "    data.append([\"\", \"\"])\n",
    "    data.append([str(steps), \"Current points\"])\n",
    "\n",
    "    pygame.draw.lines(gameDisplay, (255, 50, 50, 255), True, [\n",
    "        (0, 0), (800, 0), (800, 600), (0, 600)], 5)\n",
    "    for i, text in enumerate(data):\n",
    "        gameDisplay.blit(font1.render(\n",
    "            text[0], True, (128, 128, 255)), (100, 100 + 30 * i))\n",
    "        gameDisplay.blit(font2.render(\n",
    "            text[1], True, (128, 128, 255)), (200, 100 + 30 * i))\n",
    "\n",
    "\n",
    "# =======================================================================================\n",
    "# Функции, отвечающие за расчет сглаживания ломаной\n",
    "# =======================================================================================\n",
    "def get_point(points, alpha, deg=None):\n",
    "    if deg is None:\n",
    "        deg = len(points) - 1\n",
    "    if deg == 0:\n",
    "        return points[0]\n",
    "    return add(mul(points[deg], alpha), mul(get_point(points, alpha, deg - 1), 1 - alpha))\n",
    "\n",
    "\n",
    "def get_points(base_points, count):\n",
    "    alpha = 1 / count\n",
    "    res = []\n",
    "    for i in range(count):\n",
    "        res.append(get_point(base_points, i * alpha))\n",
    "    return res\n",
    "\n",
    "\n",
    "def get_knot(points, count):\n",
    "    if len(points) < 3:\n",
    "        return []\n",
    "    res = []\n",
    "    for i in range(-2, len(points) - 2):\n",
    "        ptn = []\n",
    "        ptn.append(mul(add(points[i], points[i + 1]), 0.5))\n",
    "        ptn.append(points[i + 1])\n",
    "        ptn.append(mul(add(points[i + 1], points[i + 2]), 0.5))\n",
    "\n",
    "        res.extend(get_points(ptn, count))\n",
    "    return res\n",
    "\n",
    "\n",
    "def set_points(points, speeds):\n",
    "    \"\"\"функция перерасчета координат опорных точек\"\"\"\n",
    "    for p in range(len(points)):\n",
    "        points[p] = add(points[p], speeds[p])\n",
    "        if points[p][0] > SCREEN_DIM[0] or points[p][0] < 0:\n",
    "            speeds[p] = (- speeds[p][0], speeds[p][1])\n",
    "        if points[p][1] > SCREEN_DIM[1] or points[p][1] < 0:\n",
    "            speeds[p] = (speeds[p][0], -speeds[p][1])\n",
    "\n",
    "\n",
    "# =======================================================================================\n",
    "# Основная программа\n",
    "# =======================================================================================\n",
    "if __name__ == \"__main__\":\n",
    "    pygame.init()\n",
    "    gameDisplay = pygame.display.set_mode(SCREEN_DIM)\n",
    "    pygame.display.set_caption(\"MyScreenSaver\")\n",
    "\n",
    "    steps = 35\n",
    "    working = True\n",
    "    points = []\n",
    "    speeds = []\n",
    "    show_help = False\n",
    "    pause = True\n",
    "\n",
    "    hue = 0\n",
    "    color = pygame.Color(0)\n",
    "\n",
    "    while working:\n",
    "        for event in pygame.event.get():\n",
    "            if event.type == pygame.QUIT:\n",
    "                working = False\n",
    "            if event.type == pygame.KEYDOWN:\n",
    "                if event.key == pygame.K_ESCAPE:\n",
    "                    working = False\n",
    "                if event.key == pygame.K_r:\n",
    "                    points = []\n",
    "                    speeds = []\n",
    "                if event.key == pygame.K_p:\n",
    "                    pause = not pause\n",
    "                if event.key == pygame.K_KP_PLUS:\n",
    "                    steps += 1\n",
    "                if event.key == pygame.K_F1:\n",
    "                    show_help = not show_help\n",
    "                if event.key == pygame.K_KP_MINUS:\n",
    "                    steps -= 1 if steps > 1 else 0\n",
    "\n",
    "            if event.type == pygame.MOUSEBUTTONDOWN:\n",
    "                points.append(event.pos)\n",
    "                speeds.append((random.random() * 2, random.random() * 2))\n",
    "\n",
    "        gameDisplay.fill((0, 0, 0))\n",
    "        hue = (hue + 1) % 360\n",
    "        color.hsla = (hue, 100, 50, 100)\n",
    "        draw_points(points)\n",
    "        draw_points(get_knot(points, steps), \"line\", 3, color)\n",
    "        if not pause:\n",
    "            set_points(points, speeds)\n",
    "        if show_help:\n",
    "            draw_help()\n",
    "\n",
    "        pygame.display.flip()\n",
    "\n",
    "    pygame.display.quit()\n",
    "    pygame.quit()\n",
    "    exit(0)\n"
   ]
  },
  {
   "cell_type": "code",
   "execution_count": 1,
   "metadata": {},
   "outputs": [
    {
     "name": "stdout",
     "output_type": "stream",
     "text": [
      "pygame 2.0.0 (SDL 2.0.12, python 3.7.3)\n",
      "Hello from the pygame community. https://www.pygame.org/contribute.html\n"
     ]
    }
   ],
   "source": [
    "import pygame"
   ]
  },
  {
   "cell_type": "code",
   "execution_count": 9,
   "metadata": {},
   "outputs": [],
   "source": [
    "import math"
   ]
  },
  {
   "cell_type": "code",
   "execution_count": 11,
   "metadata": {},
   "outputs": [],
   "source": [
    "import pygame\n",
    "import random\n",
    "import math\n",
    "\n",
    "SCREEN_DIM = (800, 600)\n",
    "\n",
    "# =======================================================================================\n",
    "# Функции для работы с векторами\n",
    "# =======================================================================================\n",
    "\n",
    "class Vec2d:\n",
    "    def __init__(self, vector):\n",
    "        self.x = vector[0]\n",
    "        self.y = vector[1]\n",
    "    \n",
    "    def __sub__(self, other):\n",
    "        \"\"\"\"возвращает разность двух векторов\"\"\"\n",
    "        return Vec2d((self.x - other.x, self.y - other.y))\n",
    "\n",
    "\n",
    "    def __add__(self, other):\n",
    "        \"\"\"возвращает сумму двух векторов\"\"\"\n",
    "        return Vec2d((self.x + other.x, self.y + other.y))\n",
    "\n",
    "\n",
    "    def __len__(self):\n",
    "        \"\"\"возвращает длину вектора\"\"\"\n",
    "        sum_kv = self.x ** 2 + self.y ** 2\n",
    "        #print(sum_kv)\n",
    "        return round(math.sqrt(float(sum_kv)))#self.x * self.x + self.y * self.y)\n",
    "    \n",
    "    def __mul__(self, k):\n",
    "        \"\"\"возвращает произведение вектора на число\"\"\"\n",
    "        return Vec2d((self.x * k, self.y * k))\n",
    "\n",
    "\n",
    "    def int_pair(self):\n",
    "        \"\"\"возвращает пару координат, определяющих вектор (координаты точки конца вектора),\n",
    "        координаты начальной точки вектора совпадают с началом системы координат (0, 0)\"\"\"\n",
    "        return (self.x, self.y)\n",
    "\n",
    "    \n",
    "class Polyline:    \n",
    "    def __init__(self, points, speeds):\n",
    "        self.points = points\n",
    "        self.speeds = speeds\n",
    "                \n",
    "    def draw_points(self, points, style = \"points\", width=3, color=(255, 255, 255)):\n",
    "        \"\"\"функция отрисовки точек на экране\"\"\"\n",
    "        if style == \"line\":\n",
    "            for p_n in range(-1, len(points) - 1):\n",
    "                pygame.draw.line(gameDisplay, color, (int(points[p_n].x), int(points[p_n].y)), \n",
    "                                 (int(points[p_n + 1].x), int(points[p_n + 1].y)), width)\n",
    "        elif style == \"points\":\n",
    "            for p in points:\n",
    "                pygame.draw.circle(gameDisplay, color, (int(p.x), int(p.y)), width)\n",
    "                \n",
    "    def set_points(self):\n",
    "        \"\"\"функция перерасчета координат опорных точек\"\"\"\n",
    "        for p in range(len(self.points)):\n",
    "            self.points[p].x = self.points[p].x + self.speeds[p][0]\n",
    "            self.points[p].y = self.points[p].y + self.speeds[p][1]\n",
    "            if self.points[p].x > SCREEN_DIM[0] or self.points[p].x < 0:\n",
    "                self.speeds[p] = (- self.speeds[p][0], self.speeds[p][1])\n",
    "            if self.points[p].y > SCREEN_DIM[1] or self.points[p].y < 0:\n",
    "                self.speeds[p] = (self.speeds[p][0], -self.speeds[p][1])\n",
    "            \n",
    "    def speed_up(self):\n",
    "        substitute=[]\n",
    "        for i in range(len(self.speeds)):\n",
    "            substitute.append([self.speeds[i][0] * 2, self.speeds[i][1] * 2])\n",
    "        self.speeds = substitute\n",
    "                        \n",
    "    def speed_down(self):\n",
    "        substitute=[]\n",
    "        for i in range(len(self.speeds)):\n",
    "            substitute.append([self.speeds[i][0] / 2, self.speeds[i][1] / 2])\n",
    "        self.speeds = substitute\n",
    "\n",
    "            \n",
    "class Knot (Polyline):    \n",
    "    def __init__(self, points, speeds, count):\n",
    "        self.points = points\n",
    "        self.speeds = speeds\n",
    "        self.count = count\n",
    "    \n",
    "    \n",
    "    def get_point(self, points, alpha, deg=None):\n",
    "        a = 1 / self.count\n",
    "        if deg is None:\n",
    "            deg = len(points) - 1\n",
    "        if deg == 0:\n",
    "            return points[0]\n",
    "        return points[deg]*alpha + self.get_point(points, alpha, deg-1)*(1-alpha)\n",
    "\n",
    "\n",
    "    def get_points(self, base_points):\n",
    "        alpha = 1 / self.count\n",
    "        res = []\n",
    "        for i in range(self.count):\n",
    "            res.append(self.get_point(base_points, i * alpha))\n",
    "        return res\n",
    "\n",
    "\n",
    "    def get_knot(self):\n",
    "        if len(self.points) < 3:\n",
    "            return []\n",
    "        res = []\n",
    "        for i in range(-2, len(self.points) - 2):\n",
    "            ptn = []\n",
    "            ptn.append((self.points[i] + self.points[i + 1]) * 0.5)\n",
    "            ptn.append(self.points[i + 1])\n",
    "            ptn.append((self.points[i + 1] + self.points[i + 2]) * 0.5)\n",
    "            res.extend(self.get_points(ptn))\n",
    "        return res\n",
    "\n",
    "    \n",
    "#     def get_point(self, alpha, deg=None):\n",
    "#         if deg is None:\n",
    "#             deg = len(self.points) - 1\n",
    "#         if deg == 0:\n",
    "#             return self.points[0]\n",
    "#         return self.points[deg]*alpha + self.get_point(alpha, deg-1)*(1-alpha)\n",
    "        \n",
    "#     def get_points(self, base_points):\n",
    "#         alpha = 1 / self.count\n",
    "#         res = []\n",
    "#         for i in range(self.count):\n",
    "#             res.append(self.get_point(i * alpha))\n",
    "#         return res\n",
    "\n",
    "#     def get_knot(self):\n",
    "#         if len(self.points) < 3:\n",
    "#             return []\n",
    "#         res = []\n",
    "#         for i in range(-2, len(self.points) - 2):\n",
    "#             ptn = []\n",
    "#             ptn.append((self.points[i] + self.points[i + 1]) * 0.5)\n",
    "#             ptn.append(self.points[i + 1])\n",
    "#             ptn.append((self.points[i + 1] + self.points[i + 2]) * 0.5)\n",
    "\n",
    "#             res.extend(self.get_points(ptn))\n",
    "#         return res\n",
    "\n",
    "\n",
    "def draw_help():\n",
    "    \"\"\"функция отрисовки экрана справки программы\"\"\"\n",
    "    gameDisplay.fill((50, 50, 50))\n",
    "    font1 = pygame.font.SysFont(\"courier\", 24)\n",
    "    font2 = pygame.font.SysFont(\"serif\", 24)\n",
    "    data = []\n",
    "    data.append([\"F1\", \"Show Help\"])\n",
    "    data.append([\"R\", \"Restart\"])\n",
    "    data.append([\"P\", \"Pause/Play\"])\n",
    "    data.append([\"Num+\", \"More points\"])\n",
    "    data.append([\"Num-\", \"Less points\"])\n",
    "    data.append([\"A\", \"Add polyline\"])\n",
    "    data.append([\"E\", \"Erase last polyline\"])\n",
    "    data.append([\"I\", \"Increase speed\"])\n",
    "    data.append([\"D\", \"Decrease speed\"])\n",
    "    data.append([\"\", \"\"])\n",
    "    data.append([str(steps), \"Current points\"])\n",
    "    data.append([str(len(knots)), \"Polylines count\"])\n",
    "\n",
    "    pygame.draw.lines(gameDisplay, (255, 50, 50, 255), True, [\n",
    "        (0, 0), (800, 0), (800, 600), (0, 600)], 5)\n",
    "    for i, text in enumerate(data):\n",
    "        gameDisplay.blit(font1.render(\n",
    "            text[0], True, (128, 128, 255)), (100, 100 + 30 * i))\n",
    "        gameDisplay.blit(font2.render(\n",
    "            text[1], True, (128, 128, 255)), (200, 100 + 30 * i))\n",
    "\n",
    "if __name__ == \"__main__\":\n",
    "    pygame.init()\n",
    "    gameDisplay = pygame.display.set_mode(SCREEN_DIM)\n",
    "    pygame.display.set_caption(\"MyScreenSaver\")\n",
    "    \n",
    "    steps = 35\n",
    "    working = True\n",
    "    knots = [Knot([], [], steps)]\n",
    "    #points = []\n",
    "    #speeds = []\n",
    "    show_help = False\n",
    "    pause = True\n",
    "\n",
    "    hue = 0\n",
    "    color = pygame.Color(0)\n",
    "\n",
    "    while working:\n",
    "        for event in pygame.event.get():\n",
    "            if event.type == pygame.QUIT:\n",
    "                working = False\n",
    "            if event.type == pygame.KEYDOWN:\n",
    "                if event.key == pygame.K_ESCAPE:\n",
    "                    working = False\n",
    "                if event.key == pygame.K_r:\n",
    "                    knots = [Knot([], [], steps)]\n",
    "                    points = []\n",
    "                    speeds = []\n",
    "                if event.key == pygame.K_p:\n",
    "                    pause = not pause\n",
    "                if event.key == pygame.K_KP_PLUS:\n",
    "                    steps += 1\n",
    "                    if not knots == []:\n",
    "                        knots[len(knots)-1].count = steps\n",
    "                if event.key == pygame.K_F1:\n",
    "                    show_help = not show_help\n",
    "                if event.key == pygame.K_KP_MINUS:\n",
    "                    steps -= 1 if steps > 1 else 0\n",
    "                    if not knots == []:\n",
    "                        knots[len(knots)-1].count = steps\n",
    "                if event.key == pygame.K_a:\n",
    "                    knots.append(Knot([], [], steps))\n",
    "                if event.key == pygame.K_e:\n",
    "                    if len(knots) > 0:\n",
    "                        knots = knots[:-1]\n",
    "                if event.key == pygame.K_i:\n",
    "                    for knot in knots:\n",
    "                        knot.speed_up()\n",
    "                if event.key == pygame.K_d:\n",
    "                    for knot in knots:\n",
    "                        knot.speed_down()\n",
    "                \n",
    "\n",
    "            if event.type == pygame.MOUSEBUTTONDOWN:\n",
    "                if knots == []:\n",
    "                    knots.append(Knot(event.pos, steps))\n",
    "                else:\n",
    "                    knots[len(knots)-1].points.append(Vec2d(event.pos))\n",
    "                    knots[len(knots)-1].speeds.append(list([random.random() * 2, random.random() * 2]))\n",
    "                #points.append(event.pos)\n",
    "                #speeds.append((random.random() * 2, random.random() * 2))\n",
    "\n",
    "        gameDisplay.fill((0, 0, 0))\n",
    "        hue = (hue + 1) % 360\n",
    "        color.hsla = (hue, 100, 50, 100)\n",
    "        for knot in knots:\n",
    "            knot.draw_points(knot.points)\n",
    "            knot.draw_points(knot.get_knot(), \"line\", 3, color)\n",
    "        #draw_points(points)\n",
    "        #draw_points(get_knot(points, steps), \"line\", 3, color)\n",
    "        if not pause:\n",
    "            for knot in knots:\n",
    "                knot.set_points()\n",
    "        if show_help:\n",
    "            draw_help()\n",
    "\n",
    "        pygame.display.flip()\n",
    "\n",
    "    pygame.display.quit()\n",
    "    pygame.quit()\n",
    "    exit(0)"
   ]
  },
  {
   "cell_type": "code",
   "execution_count": 9,
   "metadata": {},
   "outputs": [
    {
     "ename": "TypeError",
     "evalue": "__init__() takes 2 positional arguments but 3 were given",
     "output_type": "error",
     "traceback": [
      "\u001b[1;31m---------------------------------------------------------------------------\u001b[0m",
      "\u001b[1;31mTypeError\u001b[0m                                 Traceback (most recent call last)",
      "\u001b[1;32m<ipython-input-9-e009ff981efe>\u001b[0m in \u001b[0;36m<module>\u001b[1;34m\u001b[0m\n\u001b[1;32m----> 1\u001b[1;33m \u001b[0mv1\u001b[0m\u001b[1;33m=\u001b[0m\u001b[0mVec2d\u001b[0m\u001b[1;33m(\u001b[0m\u001b[1;36m4\u001b[0m\u001b[1;33m,\u001b[0m\u001b[1;36m4\u001b[0m\u001b[1;33m)\u001b[0m\u001b[1;33m\u001b[0m\u001b[1;33m\u001b[0m\u001b[0m\n\u001b[0m\u001b[0;32m      2\u001b[0m \u001b[0mv2\u001b[0m\u001b[1;33m=\u001b[0m\u001b[0mVec2d\u001b[0m\u001b[1;33m(\u001b[0m\u001b[1;36m6\u001b[0m\u001b[1;33m,\u001b[0m\u001b[1;36m8\u001b[0m\u001b[1;33m)\u001b[0m\u001b[1;33m\u001b[0m\u001b[1;33m\u001b[0m\u001b[0m\n",
      "\u001b[1;31mTypeError\u001b[0m: __init__() takes 2 positional arguments but 3 were given"
     ]
    }
   ],
   "source": [
    "v1=Vec2d(4,4)\n",
    "v2=Vec2d(6,8)"
   ]
  },
  {
   "cell_type": "code",
   "execution_count": 55,
   "metadata": {},
   "outputs": [
    {
     "name": "stdout",
     "output_type": "stream",
     "text": [
      "32\n"
     ]
    },
    {
     "data": {
      "text/plain": [
       "6"
      ]
     },
     "execution_count": 55,
     "metadata": {},
     "output_type": "execute_result"
    }
   ],
   "source": [
    "len(v1)"
   ]
  },
  {
   "cell_type": "code",
   "execution_count": 56,
   "metadata": {},
   "outputs": [
    {
     "data": {
      "text/plain": [
       "5.0"
      ]
     },
     "execution_count": 56,
     "metadata": {},
     "output_type": "execute_result"
    }
   ],
   "source": [
    "math.sqrt(3**2 + 4**2)"
   ]
  },
  {
   "cell_type": "code",
   "execution_count": 59,
   "metadata": {},
   "outputs": [
    {
     "name": "stdout",
     "output_type": "stream",
     "text": [
      "3\n"
     ]
    }
   ],
   "source": [
    "a=[0,1,2,3]\n",
    "print(a[len(a)-1])"
   ]
  },
  {
   "cell_type": "code",
   "execution_count": 62,
   "metadata": {},
   "outputs": [
    {
     "name": "stdout",
     "output_type": "stream",
     "text": [
      "[0, 2, 4, 6]\n"
     ]
    }
   ],
   "source": [
    "for i in range(len(a)):\n",
    "    a[i] = a[i] *2\n",
    "print(a)"
   ]
  },
  {
   "cell_type": "code",
   "execution_count": 2,
   "metadata": {},
   "outputs": [],
   "source": [
    "import random"
   ]
  },
  {
   "cell_type": "code",
   "execution_count": 89,
   "metadata": {},
   "outputs": [],
   "source": [
    "class Jopa:\n",
    "    def __init__(self, a, b):\n",
    "        self.a = a\n",
    "        self.b = b\n",
    "    \n",
    "    @staticmethod\n",
    "    def hui(c, d):\n",
    "        return c + d\n",
    "    \n",
    "    def hui1(self, c):\n",
    "        return c"
   ]
  },
  {
   "cell_type": "code",
   "execution_count": 90,
   "metadata": {},
   "outputs": [],
   "source": [
    "e = Jopa(1, 2)"
   ]
  },
  {
   "cell_type": "code",
   "execution_count": 91,
   "metadata": {},
   "outputs": [
    {
     "data": {
      "text/plain": [
       "11"
      ]
     },
     "execution_count": 91,
     "metadata": {},
     "output_type": "execute_result"
    }
   ],
   "source": [
    "e.hui(5, 6)"
   ]
  },
  {
   "cell_type": "code",
   "execution_count": 92,
   "metadata": {},
   "outputs": [
    {
     "data": {
      "text/plain": [
       "5"
      ]
     },
     "execution_count": 92,
     "metadata": {},
     "output_type": "execute_result"
    }
   ],
   "source": [
    "e.hui1(5)"
   ]
  },
  {
   "cell_type": "code",
   "execution_count": 95,
   "metadata": {},
   "outputs": [
    {
     "name": "stdout",
     "output_type": "stream",
     "text": [
      "-2\n",
      "-1\n",
      "0\n",
      "1\n",
      "2\n",
      "3\n",
      "4\n"
     ]
    }
   ],
   "source": [
    "for i in range(-2, 5):\n",
    "    print(i)"
   ]
  },
  {
   "cell_type": "code",
   "execution_count": 1,
   "metadata": {},
   "outputs": [
    {
     "name": "stdout",
     "output_type": "stream",
     "text": [
      "pygame 2.0.0 (SDL 2.0.12, python 3.7.3)\n",
      "Hello from the pygame community. https://www.pygame.org/contribute.html\n"
     ]
    }
   ],
   "source": [
    "import pygame\n",
    "import random\n",
    "import math\n",
    "\n",
    "SCREEN_DIM = (800, 600)\n",
    "\n",
    "# =======================================================================================\n",
    "# Функции для работы с векторами\n",
    "# =======================================================================================\n",
    "\n",
    "class Vec2d:\n",
    "    def __init__(self, vector):\n",
    "        self.x = vector[0]\n",
    "        self.y = vector[1]\n",
    "    \n",
    "    def __sub__(self, other):\n",
    "        \"\"\"\"возвращает разность двух векторов\"\"\"\n",
    "        return Vec2d((self.x - other.x, self.y - other.y))\n",
    "\n",
    "\n",
    "    def __add__(self, other):\n",
    "        \"\"\"возвращает сумму двух векторов\"\"\"\n",
    "        return Vec2d((self.x + other.x, self.y + other.y))\n",
    "\n",
    "\n",
    "    def __len__(self):\n",
    "        \"\"\"возвращает длину вектора\"\"\"\n",
    "        sum_kv = self.x ** 2 + self.y ** 2\n",
    "        #print(sum_kv)\n",
    "        return round(math.sqrt(float(sum_kv)))#self.x * self.x + self.y * self.y)\n",
    "    \n",
    "    def __mul__(self, k):\n",
    "        \"\"\"возвращает произведение вектора на число\"\"\"\n",
    "        return Vec2d((self.x * k, self.y * k))\n",
    "\n",
    "\n",
    "    def int_pair(self):\n",
    "        \"\"\"возвращает пару координат, определяющих вектор (координаты точки конца вектора),\n",
    "        координаты начальной точки вектора совпадают с началом системы координат (0, 0)\"\"\"\n",
    "        return (self.x, self.y)\n",
    "\n",
    "    \n",
    "class Polyline:    \n",
    "    def __init__(self, points, speeds):\n",
    "        self.points = points\n",
    "        self.speeds = speeds\n",
    "                \n",
    "    def draw_points(self, points, style = \"points\", width=3, color=(255, 255, 255)):\n",
    "        \"\"\"функция отрисовки точек на экране\"\"\"\n",
    "        if style == \"line\":\n",
    "            for p_n in range(-1, len(points) - 1):\n",
    "                pygame.draw.line(gameDisplay, color, (int(points[p_n].x), int(points[p_n].y)), \n",
    "                                 (int(points[p_n + 1].x), int(points[p_n + 1].y)), width)\n",
    "        elif style == \"points\":\n",
    "            for p in points:\n",
    "                pygame.draw.circle(gameDisplay, color, (int(p.x), int(p.y)), width)\n",
    "                \n",
    "    def set_points(self):\n",
    "        \"\"\"функция перерасчета координат опорных точек\"\"\"\n",
    "        for p in range(len(self.points)):\n",
    "            self.points[p].x = self.points[p].x + self.speeds[p][0]\n",
    "            self.points[p].y = self.points[p].y + self.speeds[p][1]\n",
    "            if self.points[p].x > SCREEN_DIM[0] or self.points[p].x < 0:\n",
    "                self.speeds[p] = (- self.speeds[p][0], self.speeds[p][1])\n",
    "            if self.points[p].y > SCREEN_DIM[1] or self.points[p].y < 0:\n",
    "                self.speeds[p] = (self.speeds[p][0], -self.speeds[p][1])\n",
    "            \n",
    "    def speed_up(self):\n",
    "        for i in range(len(self.speeds)):\n",
    "            self.speeds[0] = self.speeds[0] * 2\n",
    "            self.speeds[1] = self.speeds[1] * 2\n",
    "            \n",
    "    def speed_down(self):\n",
    "        for i in range(len(self.speeds)):\n",
    "            self.speeds[0] = self.speeds[0] / 2\n",
    "            self.speeds[1] = self.speeds[1] / 2\n",
    "\n",
    "            \n",
    "class Knot (Polyline):    \n",
    "    def __init__(self, points, speeds, count):\n",
    "        self.points = points\n",
    "        self.speeds = speeds\n",
    "        self.count = count\n",
    "    \n",
    "    def get_point(self, alpha, deg=None):\n",
    "        if deg is None:\n",
    "            deg = len(self.points) - 1\n",
    "        if deg == 0:\n",
    "            return self.points[0]\n",
    "        return self.points[deg]*alpha + self.get_point(alpha, deg-1)*(1-alpha)\n",
    "        \n",
    "    def get_points(self, base_points):\n",
    "        alpha = 1 / self.count\n",
    "        res = []\n",
    "        for i in range(self.count):\n",
    "            res.append(self.get_point(i * alpha))\n",
    "        return res\n",
    "\n",
    "    def get_knot(self):\n",
    "        if len(self.points) < 3:\n",
    "            return []\n",
    "        res = []\n",
    "        for i in range(-2, len(self.points) - 2):\n",
    "            ptn = []\n",
    "            ptn.append((self.points[i] + self.points[i + 1]) * 0.5)\n",
    "            ptn.append(self.points[i + 1])\n",
    "            ptn.append((self.points[i + 1] + self.points[i + 2]) * 0.5)\n",
    "\n",
    "            res.extend(self.get_points(ptn))\n",
    "        return res\n"
   ]
  },
  {
   "cell_type": "code",
   "execution_count": 2,
   "metadata": {},
   "outputs": [],
   "source": [
    "po = [Vec2d((1, 2)), Vec2d((5,6)), Vec2d((10, 16)), Vec2d((10, 3))]\n",
    "sp = [(1, 1), (1, 1), (1, 1), (1, 1)]"
   ]
  },
  {
   "cell_type": "code",
   "execution_count": 3,
   "metadata": {},
   "outputs": [],
   "source": [
    "kn = Knot (po, sp, 4)"
   ]
  },
  {
   "cell_type": "code",
   "execution_count": 4,
   "metadata": {},
   "outputs": [
    {
     "data": {
      "text/plain": [
       "<__main__.Vec2d at 0x50a3da0>"
      ]
     },
     "execution_count": 4,
     "metadata": {},
     "output_type": "execute_result"
    }
   ],
   "source": [
    "po[1]+po[2]"
   ]
  },
  {
   "cell_type": "code",
   "execution_count": 5,
   "metadata": {},
   "outputs": [
    {
     "data": {
      "text/plain": [
       "[<__main__.Vec2d at 0x50a6860>,\n",
       " <__main__.Vec2d at 0x50a6ac8>,\n",
       " <__main__.Vec2d at 0x50a6b00>,\n",
       " <__main__.Vec2d at 0x50a6be0>,\n",
       " <__main__.Vec2d at 0x50a6c50>,\n",
       " <__main__.Vec2d at 0x50a6c88>,\n",
       " <__main__.Vec2d at 0x50a6cf8>,\n",
       " <__main__.Vec2d at 0x50a6d30>,\n",
       " <__main__.Vec2d at 0x50a6c18>,\n",
       " <__main__.Vec2d at 0x50a6da0>,\n",
       " <__main__.Vec2d at 0x50a6dd8>,\n",
       " <__main__.Vec2d at 0x50a6d68>,\n",
       " <__main__.Vec2d at 0x50a6cc0>,\n",
       " <__main__.Vec2d at 0x50a6e10>,\n",
       " <__main__.Vec2d at 0x50a6e80>,\n",
       " <__main__.Vec2d at 0x50a6eb8>]"
      ]
     },
     "execution_count": 5,
     "metadata": {},
     "output_type": "execute_result"
    }
   ],
   "source": [
    "kn.get_knot()"
   ]
  },
  {
   "cell_type": "code",
   "execution_count": 4,
   "metadata": {},
   "outputs": [
    {
     "data": {
      "text/plain": [
       "list"
      ]
     },
     "execution_count": 4,
     "metadata": {},
     "output_type": "execute_result"
    }
   ],
   "source": [
    "type(list([random.random() * 2, random.random() * 2]))"
   ]
  },
  {
   "cell_type": "code",
   "execution_count": null,
   "metadata": {},
   "outputs": [],
   "source": []
  },
  {
   "cell_type": "code",
   "execution_count": null,
   "metadata": {},
   "outputs": [],
   "source": []
  }
 ],
 "metadata": {
  "kernelspec": {
   "display_name": "Python 3",
   "language": "python",
   "name": "python3"
  },
  "language_info": {
   "codemirror_mode": {
    "name": "ipython",
    "version": 3
   },
   "file_extension": ".py",
   "mimetype": "text/x-python",
   "name": "python",
   "nbconvert_exporter": "python",
   "pygments_lexer": "ipython3",
   "version": "3.7.3"
  }
 },
 "nbformat": 4,
 "nbformat_minor": 2
}
