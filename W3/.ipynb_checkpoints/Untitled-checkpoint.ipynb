{
 "cells": [
  {
   "cell_type": "code",
   "execution_count": 170,
   "metadata": {},
   "outputs": [],
   "source": [
    "class Hero:\n",
    "    def __init__(self):\n",
    "        self.positive_effects = []\n",
    "        self.negative_effects = []\n",
    "        self.stats = {\n",
    "            \"HP\": 128,  # health points\n",
    "            \"MP\": 42,  # magic points, \n",
    "            \"SP\": 100,  # skill points\n",
    "            \"Strength\": 15,  # сила\n",
    "            \"Perception\": 4,  # восприятие\n",
    "            \"Endurance\": 8,  # выносливость\n",
    "            \"Charisma\": 2,  # харизма\n",
    "            \"Intelligence\": 3,  # интеллект\n",
    "            \"Agility\": 8,  # ловкость \n",
    "            \"Luck\": 1  # удача\n",
    "        }\n",
    "\n",
    "    def get_positive_effects(self):\n",
    "        return self.positive_effects.copy()\n",
    "\n",
    "    def get_negative_effects(self):\n",
    "        return self.negative_effects.copy()\n",
    "\n",
    "    def get_stats(self):\n",
    "        return self.stats.copy()"
   ]
  },
  {
   "cell_type": "code",
   "execution_count": 171,
   "metadata": {},
   "outputs": [],
   "source": [
    "hero = Hero()"
   ]
  },
  {
   "cell_type": "code",
   "execution_count": 172,
   "metadata": {},
   "outputs": [
    {
     "data": {
      "text/plain": [
       "{'HP': 128,\n",
       " 'MP': 42,\n",
       " 'SP': 100,\n",
       " 'Strength': 15,\n",
       " 'Perception': 4,\n",
       " 'Endurance': 8,\n",
       " 'Charisma': 2,\n",
       " 'Intelligence': 3,\n",
       " 'Agility': 8,\n",
       " 'Luck': 1}"
      ]
     },
     "execution_count": 172,
     "metadata": {},
     "output_type": "execute_result"
    }
   ],
   "source": [
    "hero.get_stats()"
   ]
  },
  {
   "cell_type": "code",
   "execution_count": 173,
   "metadata": {},
   "outputs": [
    {
     "data": {
      "text/plain": [
       "[]"
      ]
     },
     "execution_count": 173,
     "metadata": {},
     "output_type": "execute_result"
    }
   ],
   "source": [
    "hero.get_negative_effects()"
   ]
  },
  {
   "cell_type": "code",
   "execution_count": 192,
   "metadata": {},
   "outputs": [],
   "source": [
    "from abc import ABC, abstractmethod\n",
    "\n",
    "class AbstractEffect(ABC, Hero):\n",
    "    def __init__(self, base):\n",
    "        self.base = base\n",
    "        self.stats = base.stats\n",
    "        self.positive_effects = base.positive_effects\n",
    "        self.negative_effects = base.negative_effects\n",
    "        \n",
    "    @abstractmethod\n",
    "    def get_positive_effects(self):\n",
    "        pass\n",
    "    \n",
    "    @abstractmethod\n",
    "    def get_negative_effects(self):\n",
    "        pass\n",
    "\n",
    "    \n",
    "class AbstractPositive(AbstractEffect):\n",
    "    @abstractmethod\n",
    "    def get_positive_effects(self):\n",
    "        pass\n",
    "    \n",
    "    def get_negative_effects(self):\n",
    "        return self.base.get_negative_effects()\n",
    "\n",
    "    \n",
    "class AbstractNegative(AbstractEffect):\n",
    "    def get_positive_effect(self):\n",
    "        return self.base.get_positive_effect()\n",
    "    \n",
    "    @abstractmethod\n",
    "    def get_negative_effects(self):\n",
    "        return self.base.get_negative_effects()\n",
    "    \n",
    "    \n",
    "class Berserk(AbstractPositive):\n",
    "    def get_positive_effects(self):\n",
    "        temp_string = self.base.get_positive_effects()\n",
    "        temp_string.append('Berserk')\n",
    "        return temp_string\n",
    "    \n",
    "    def get_negative_effects(self):\n",
    "        return self.base.get_negative_effects()\n",
    "    \n",
    "    def get_stats(self):\n",
    "        stats = self.base.get_stats()\n",
    "        stats['HP'] += 50\n",
    "        stats['Strength'] += 7\n",
    "        stats['Endurance'] += 7\n",
    "        stats['Agility'] += 7\n",
    "        stats['Luck'] += 7\n",
    "        stats['Perception'] -= 3\n",
    "        stats['Charisma'] -= 3\n",
    "        stats['Intelligence'] -= 3\n",
    "        return stats\n",
    "    \n",
    "    \n",
    "class Blessing(AbstractPositive):\n",
    "    def get_positive_effects(self):\n",
    "        temp_string = self.base.get_positive_effects()\n",
    "        temp_string.append('Blessing')\n",
    "        return temp_string\n",
    "    \n",
    "    def get_negative_effects(self):\n",
    "        return self.base.get_negative_effects()\n",
    "    \n",
    "    def get_stats(self):\n",
    "        stats = self.base.get_stats()\n",
    "        stats['Strength'] += 2\n",
    "        stats['Endurance'] += 2\n",
    "        stats['Agility'] += 2\n",
    "        stats['Luck'] += 2\n",
    "        stats['Perception'] += 2\n",
    "        stats['Charisma'] += 2\n",
    "        stats['Intelligence'] += 2\n",
    "        return stats\n",
    "    \n",
    "    \n",
    "class Weakness(AbstractNegative):\n",
    "    def get_negative_effects(self):\n",
    "        temp_string = self.base.get_negative_effects()\n",
    "        temp_string.append('Weakness')\n",
    "        return temp_string\n",
    "    \n",
    "    def get_positive_effects(self):\n",
    "        return self.base.get_positive_effects()\n",
    "    \n",
    "    def get_stats(self):\n",
    "        stats = self.base.get_stats()\n",
    "        stats['Strength'] -= 4\n",
    "        stats['Endurance'] -= 4\n",
    "        stats['Agility'] -= 4\n",
    "        return stats\n",
    "    \n",
    "    \n",
    "class EvilEye(AbstractNegative):\n",
    "    def get_negative_effects(self):\n",
    "        temp_string = self.base.get_negative_effects()\n",
    "        temp_string.append('EvilEye')\n",
    "        return temp_string\n",
    "    \n",
    "    def get_positive_effects(self):\n",
    "        return self.base.get_positive_effects()\n",
    "    \n",
    "    def get_stats(self):\n",
    "        stats = self.base.get_stats()\n",
    "        stats['Luck'] -= 10\n",
    "        return stats\n",
    "    \n",
    "    \n",
    "class Curse(AbstractNegative):\n",
    "    def get_negative_effects(self):\n",
    "        temp_string = self.base.get_negative_effects()\n",
    "        temp_string.append('Curse')\n",
    "        return temp_string\n",
    "    \n",
    "    def get_positive_effects(self):\n",
    "        return self.base.get_positive_effects()\n",
    "    \n",
    "    def get_stats(self):\n",
    "        stats = self.base.get_stats()\n",
    "        stats['Strength'] -= 2\n",
    "        stats['Endurance'] -= 2\n",
    "        stats['Agility'] -= 2\n",
    "        stats['Luck'] -= 2\n",
    "        stats['Perception'] -= 2\n",
    "        stats['Charisma'] -= 2\n",
    "        stats['Intelligence'] -= 2\n",
    "        return stats"
   ]
  },
  {
   "cell_type": "code",
   "execution_count": null,
   "metadata": {},
   "outputs": [],
   "source": [
    "\n",
    "        "
   ]
  },
  {
   "cell_type": "code",
   "execution_count": 193,
   "metadata": {},
   "outputs": [],
   "source": [
    "ber1 = Berserk(hero)"
   ]
  },
  {
   "cell_type": "code",
   "execution_count": 194,
   "metadata": {},
   "outputs": [
    {
     "data": {
      "text/plain": [
       "['Berserk']"
      ]
     },
     "execution_count": 194,
     "metadata": {},
     "output_type": "execute_result"
    }
   ],
   "source": [
    "ber1.get_positive_effects()"
   ]
  },
  {
   "cell_type": "code",
   "execution_count": 195,
   "metadata": {},
   "outputs": [
    {
     "data": {
      "text/plain": [
       "[]"
      ]
     },
     "execution_count": 195,
     "metadata": {},
     "output_type": "execute_result"
    }
   ],
   "source": [
    "hero.get_positive_effects()"
   ]
  },
  {
   "cell_type": "code",
   "execution_count": 196,
   "metadata": {},
   "outputs": [],
   "source": [
    "ber2 = Berserk (ber1)"
   ]
  },
  {
   "cell_type": "code",
   "execution_count": 197,
   "metadata": {},
   "outputs": [],
   "source": [
    "ber2.base = ber2.base.base"
   ]
  },
  {
   "cell_type": "code",
   "execution_count": 198,
   "metadata": {},
   "outputs": [
    {
     "data": {
      "text/plain": [
       "{'HP': 178,\n",
       " 'MP': 42,\n",
       " 'SP': 100,\n",
       " 'Strength': 22,\n",
       " 'Perception': 1,\n",
       " 'Endurance': 15,\n",
       " 'Charisma': -1,\n",
       " 'Intelligence': 0,\n",
       " 'Agility': 15,\n",
       " 'Luck': 8}"
      ]
     },
     "execution_count": 198,
     "metadata": {},
     "output_type": "execute_result"
    }
   ],
   "source": [
    "ber2.get_stats()"
   ]
  },
  {
   "cell_type": "code",
   "execution_count": 199,
   "metadata": {},
   "outputs": [],
   "source": [
    "result = Hero()\n",
    "for _ in range (10):\n",
    "    result = Berserk(result)"
   ]
  },
  {
   "cell_type": "code",
   "execution_count": 200,
   "metadata": {},
   "outputs": [
    {
     "data": {
      "text/plain": [
       "{'HP': 628,\n",
       " 'MP': 42,\n",
       " 'SP': 100,\n",
       " 'Strength': 85,\n",
       " 'Perception': -26,\n",
       " 'Endurance': 78,\n",
       " 'Charisma': -28,\n",
       " 'Intelligence': -27,\n",
       " 'Agility': 78,\n",
       " 'Luck': 71}"
      ]
     },
     "execution_count": 200,
     "metadata": {},
     "output_type": "execute_result"
    }
   ],
   "source": [
    "result.get_stats()"
   ]
  },
  {
   "cell_type": "code",
   "execution_count": 201,
   "metadata": {},
   "outputs": [
    {
     "data": {
      "text/plain": [
       "[]"
      ]
     },
     "execution_count": 201,
     "metadata": {},
     "output_type": "execute_result"
    }
   ],
   "source": [
    "result.get_negative_effects()"
   ]
  },
  {
   "cell_type": "code",
   "execution_count": null,
   "metadata": {},
   "outputs": [],
   "source": []
  },
  {
   "cell_type": "code",
   "execution_count": null,
   "metadata": {},
   "outputs": [],
   "source": []
  },
  {
   "cell_type": "code",
   "execution_count": null,
   "metadata": {},
   "outputs": [],
   "source": []
  },
  {
   "cell_type": "code",
   "execution_count": null,
   "metadata": {},
   "outputs": [],
   "source": []
  },
  {
   "cell_type": "code",
   "execution_count": null,
   "metadata": {},
   "outputs": [],
   "source": []
  }
 ],
 "metadata": {
  "kernelspec": {
   "display_name": "Python 3",
   "language": "python",
   "name": "python3"
  },
  "language_info": {
   "codemirror_mode": {
    "name": "ipython",
    "version": 3
   },
   "file_extension": ".py",
   "mimetype": "text/x-python",
   "name": "python",
   "nbconvert_exporter": "python",
   "pygments_lexer": "ipython3",
   "version": "3.7.3"
  }
 },
 "nbformat": 4,
 "nbformat_minor": 2
}
