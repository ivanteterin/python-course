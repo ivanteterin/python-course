{
 "cells": [
  {
   "cell_type": "markdown",
   "metadata": {},
   "source": [
    "## Домашнее задание по паттерну \"Цепочка обязанностей\""
   ]
  },
  {
   "cell_type": "markdown",
   "metadata": {},
   "source": [
    "Вам дан объект класса SomeObject, содержащего три поля: integer_field, float_field и string_field\n",
    "\n",
    "Необходимо реализовать поведение:\n",
    "\n",
    "EventGet(<type>) создаёт событие получения данных соответствующего типа\n",
    "EventSet(<value>) создаёт событие изменения поля типа type(<value>)\n",
    "Необходимо реализовать классы NullHandler, IntHandler, FloatHandler, StrHandler так, чтобы можно было создать цепочку\n",
    "    \n",
    "Описание работы цепочки:  \n",
    "\n",
    "chain.handle(obj, EventGet(int)) — вернуть значение obj.integer_field\n",
    "chain.handle(obj, EventGet(str)) — вернуть значение obj.string_field\n",
    "chain.handle(obj, EventGet(float)) — вернуть значение obj.float_field\n",
    "chain.handle(obj, EventSet(1)) — установить значение obj.integer_field =1\n",
    "chain.handle(obj, EventSet(1.1)) — установить значение obj.float_field = 1.1\n",
    "chain.handle(obj, EventSet(\"str\")) — установить значение obj.string_field = \"str\""
   ]
  },
  {
   "cell_type": "code",
   "execution_count": null,
   "metadata": {},
   "outputs": [],
   "source": [
    "obj = SomeObject()\n",
    "obj.integer_field = 42\n",
    "obj.float_field = 3.14\n",
    "obj.string_field = \"some text\"\n",
    "chain = IntHandler(FloatHandler(StrHandler(NullHandler)))\n",
    "chain.handle(obj, EventGet(int)) #42\n",
    "chain.handle(obj, EventGet(float)) #3.14\n",
    "chain.handle(obj, EventGet(str)) #'some text'\n",
    "chain.handle(obj, EventSet(100))\n",
    "chain.handle(obj, EventSet(0.5))\n",
    "chain.handle(obj, EventGet(float)) #0.5\n",
    "chain.handle(obj, EventSet('new text'))\n",
    "chain.handle(obj, EventGet(str)) #'new text'"
   ]
  },
  {
   "cell_type": "markdown",
   "metadata": {},
   "source": [
    "### Решение:"
   ]
  },
  {
   "cell_type": "code",
   "execution_count": 1,
   "metadata": {},
   "outputs": [],
   "source": [
    "class SomeObject:\n",
    "    def __init__(self):\n",
    "        self.integer_field = 0\n",
    "        self.float_field = 0.0\n",
    "        self.string_field = \"\""
   ]
  },
  {
   "cell_type": "code",
   "execution_count": 85,
   "metadata": {},
   "outputs": [],
   "source": [
    "class EventGet:\n",
    "    def __init__(self, kind):\n",
    "        self.kind = kind\n",
    "        #print(self.kind)\n",
    "        \n",
    "        \n",
    "class EventSet:\n",
    "    def __init__(self, value):\n",
    "        self.value = value\n",
    "        \n",
    "\n",
    "class NullHandler:\n",
    "    \n",
    "    def __init__(self, successor=None):\n",
    "        self.successor = successor\n",
    "\n",
    "    def handle(self, obj, event):\n",
    "        if self.successor is not None:\n",
    "            self.successor.handle(obj, event)\n",
    "\n",
    "            \n",
    "class StrHandler(NullHandler):\n",
    "    def handle(self, obj, event):\n",
    "        if type(event) == EventSet:\n",
    "            if type(event.value) == str:\n",
    "                obj.string_field = event.value\n",
    "            else:\n",
    "                if self.successor is not None:\n",
    "                    self.successor.handle(obj, event)\n",
    "        elif type(event) == EventGet:\n",
    "            #print(event.kind)\n",
    "            if event.kind == str:\n",
    "                return obj.string_field\n",
    "            else:\n",
    "                if self.successor is not None:\n",
    "                    return self.successor.handle(obj, event)\n",
    "        else:\n",
    "            if self.successor is not None:\n",
    "                self.successor.handle(obj, event)\n",
    "            \n",
    "            \n",
    "class FloatHandler(NullHandler):\n",
    "    def handle(self, obj, event):\n",
    "        if type(event) == EventSet:\n",
    "            if type(event.value) == float:\n",
    "                obj.float_field = event.value\n",
    "            else:\n",
    "                if self.successor is not None:\n",
    "                    self.successor.handle(obj, event)\n",
    "        elif type(event) == EventGet:\n",
    "            if event.kind == float:\n",
    "                return obj.float_field\n",
    "            else:\n",
    "                if self.successor is not None:\n",
    "                    return self.successor.handle(obj, event)\n",
    "        else:\n",
    "            if self.successor is not None:\n",
    "                self.successor.handle(obj, event)\n",
    "            \n",
    "            \n",
    "class IntHandler(NullHandler):\n",
    "    def handle(self, obj, event):\n",
    "        if type(event) == EventSet:\n",
    "            if type(event.value) == int:\n",
    "                obj.integer_field = event.value\n",
    "            else:\n",
    "                if self.successor is not None:\n",
    "                    self.successor.handle(obj, event)\n",
    "        elif type(event) == EventGet:\n",
    "            if event.kind == int:\n",
    "                return obj.integer_field\n",
    "            else:\n",
    "                if self.successor is not None:\n",
    "                    return self.successor.handle(obj, event)\n",
    "        else:\n",
    "            if self.successor is not None:\n",
    "                self.successor.handle(obj, event)"
   ]
  },
  {
   "cell_type": "markdown",
   "metadata": {},
   "source": [
    "### Тестирование:"
   ]
  },
  {
   "cell_type": "code",
   "execution_count": 86,
   "metadata": {},
   "outputs": [],
   "source": [
    "obj = SomeObject()\n",
    "obj.integer_field = 42\n",
    "obj.float_field = 3.14\n",
    "obj.string_field = \"some text\"\n",
    "chain = IntHandler(FloatHandler(StrHandler(NullHandler)))"
   ]
  },
  {
   "cell_type": "code",
   "execution_count": 87,
   "metadata": {},
   "outputs": [
    {
     "data": {
      "text/plain": [
       "42"
      ]
     },
     "execution_count": 87,
     "metadata": {},
     "output_type": "execute_result"
    }
   ],
   "source": [
    "chain.handle(obj, EventGet(int))"
   ]
  },
  {
   "cell_type": "code",
   "execution_count": 88,
   "metadata": {},
   "outputs": [
    {
     "data": {
      "text/plain": [
       "3.14"
      ]
     },
     "execution_count": 88,
     "metadata": {},
     "output_type": "execute_result"
    }
   ],
   "source": [
    "chain.handle(obj, EventGet(float))"
   ]
  },
  {
   "cell_type": "code",
   "execution_count": 89,
   "metadata": {},
   "outputs": [
    {
     "data": {
      "text/plain": [
       "'some text'"
      ]
     },
     "execution_count": 89,
     "metadata": {},
     "output_type": "execute_result"
    }
   ],
   "source": [
    "chain.handle(obj, EventGet(str))"
   ]
  },
  {
   "cell_type": "code",
   "execution_count": 90,
   "metadata": {},
   "outputs": [],
   "source": [
    "chain.handle(obj, EventSet(100))"
   ]
  },
  {
   "cell_type": "code",
   "execution_count": 91,
   "metadata": {},
   "outputs": [],
   "source": [
    "chain.handle(obj, EventSet(0.5))"
   ]
  },
  {
   "cell_type": "code",
   "execution_count": 92,
   "metadata": {},
   "outputs": [
    {
     "data": {
      "text/plain": [
       "0.5"
      ]
     },
     "execution_count": 92,
     "metadata": {},
     "output_type": "execute_result"
    }
   ],
   "source": [
    "chain.handle(obj, EventGet(float))"
   ]
  },
  {
   "cell_type": "code",
   "execution_count": 93,
   "metadata": {},
   "outputs": [],
   "source": [
    "chain.handle(obj, EventSet('new text'))"
   ]
  },
  {
   "cell_type": "code",
   "execution_count": 94,
   "metadata": {},
   "outputs": [
    {
     "data": {
      "text/plain": [
       "'new text'"
      ]
     },
     "execution_count": 94,
     "metadata": {},
     "output_type": "execute_result"
    }
   ],
   "source": [
    "chain.handle(obj, EventGet(str))"
   ]
  },
  {
   "cell_type": "code",
   "execution_count": 95,
   "metadata": {},
   "outputs": [
    {
     "data": {
      "text/plain": [
       "100"
      ]
     },
     "execution_count": 95,
     "metadata": {},
     "output_type": "execute_result"
    }
   ],
   "source": [
    "chain.handle(obj, EventGet(int))"
   ]
  },
  {
   "cell_type": "code",
   "execution_count": null,
   "metadata": {},
   "outputs": [],
   "source": []
  },
  {
   "cell_type": "code",
   "execution_count": null,
   "metadata": {},
   "outputs": [],
   "source": []
  }
 ],
 "metadata": {
  "kernelspec": {
   "display_name": "Python 3",
   "language": "python",
   "name": "python3"
  },
  "language_info": {
   "codemirror_mode": {
    "name": "ipython",
    "version": 3
   },
   "file_extension": ".py",
   "mimetype": "text/x-python",
   "name": "python",
   "nbconvert_exporter": "python",
   "pygments_lexer": "ipython3",
   "version": "3.7.3"
  }
 },
 "nbformat": 4,
 "nbformat_minor": 2
}
